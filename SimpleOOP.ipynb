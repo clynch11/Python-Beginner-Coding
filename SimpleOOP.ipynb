{
 "cells": [
  {
   "cell_type": "code",
   "execution_count": 73,
   "id": "6f6f969d-b6d8-4138-9211-656356c1bb93",
   "metadata": {},
   "outputs": [
    {
     "name": "stdout",
     "output_type": "stream",
     "text": [
      "Sarah works for Company x and is employee number B9487. Sarah works in accounting\n",
      "David works for Company x and is employee number B9488. David works in Cyber Security\n",
      "Susan works for Company x and is employee number B9489. Susan works in Network engineering\n"
     ]
    }
   ],
   "source": [
    "#In this example, we are creating a class of objects called 'employee'. \n",
    "#The class itself is like a template. \n",
    "#We can then add individual records, or instances, for each person.\n",
    "\n",
    "#Step 1 - create the class - called instantiating the object\n",
    "class employee:\n",
    "    #class attribute - this attribute applies to all employees\n",
    "    company = \"Company x\"\n",
    "    #instance attributes - specific to each individual employee\n",
    "    def __init__(self, name, e_number):\n",
    "        self.name = name\n",
    "        self.e_number = e_number\n",
    "        \n",
    "    #instance method - something that the employee does\n",
    "    def __str__(self):\n",
    "        return f\"{self.name} works for {self.company} and is employee number {self.e_number}.\"\n",
    "    def role(self, department):\n",
    "        return f\"{self.name} works in {department}\"\n",
    "    \n",
    "#We can then use this template to create and call individual records\n",
    "\n",
    "#This creates an employee record\n",
    "sarah = employee(\"Sarah\", \"B9487\")\n",
    "david = employee(\"David\", \"B9488\")\n",
    "susan = employee(\"Susan\", \"B9489\")\n",
    "\n",
    "\n",
    "#The information we have stored about our employees can then be accessed as follows:\n",
    "print(sarah, sarah.role(\"accounting\"))\n",
    "print(david, david.role(\"Cyber Security\"))\n",
    "print(susan, susan.role(\"Network engineering\"))\n"
   ]
  },
  {
   "cell_type": "code",
   "execution_count": null,
   "id": "54768de9-85fa-408b-a5a0-816a8e3c6b48",
   "metadata": {},
   "outputs": [],
   "source": []
  },
  {
   "cell_type": "code",
   "execution_count": null,
   "id": "049f9b9d-7763-4e5c-8a64-99af77ff0d57",
   "metadata": {},
   "outputs": [],
   "source": []
  }
 ],
 "metadata": {
  "kernelspec": {
   "display_name": "Python 3 (ipykernel)",
   "language": "python",
   "name": "python3"
  },
  "language_info": {
   "codemirror_mode": {
    "name": "ipython",
    "version": 3
   },
   "file_extension": ".py",
   "mimetype": "text/x-python",
   "name": "python",
   "nbconvert_exporter": "python",
   "pygments_lexer": "ipython3",
   "version": "3.10.5"
  }
 },
 "nbformat": 4,
 "nbformat_minor": 5
}
